{
  "nbformat": 4,
  "nbformat_minor": 0,
  "metadata": {
    "colab": {
      "provenance": [],
      "collapsed_sections": []
    },
    "kernelspec": {
      "name": "python3",
      "display_name": "Python 3"
    },
    "language_info": {
      "name": "python"
    }
  },
  "cells": [
    {
      "cell_type": "markdown",
      "metadata": {
        "id": "Lh9s-1f4xzLo"
      },
      "source": [
        "<p align = center  \n",
        "<br>\n",
        "<img src=\"https://res-5.cloudinary.com/crunchbase-production/image/upload/c_lpad,h_256,w_256,f_auto,q_auto:eco/v1455514364/pim02bzqvgz0hibsra41.png\" align=\"center\"><br><FONT FACE=\"times new roman\" SIZE=6>\n",
        "<b>Práctica en Cython</b>\n",
        "<br>\n",
        "<i><b>Autor:</b></i> Juan Pablo Barrios Suarez - 8º semestre\n",
        "<br>\n",
        "<i><b>Asignatura:</b></i> Computación Paralela y Distribuída\n",
        "<br>\n",
        "<i><b>Docente:</b></i> John Corredor\n",
        "<br>\n",
        "<i><b>Fecha: </b>8/11/2022\n",
        "<br>\n",
        "<b>Ciencias de la computación e inteligencia artificial</b></i>\n",
        "<br>\n",
        "</FONT>\n",
        "</p>\n"
      ]
    },
    {
      "cell_type": "markdown",
      "source": [
        "#**Introducción**"
      ],
      "metadata": {
        "id": "Zr0Si_JUviEB"
      }
    },
    {
      "cell_type": "markdown",
      "source": [
        "Para esta práctica se considera pertinente hablar sobre el lenguaje de programación _Cython_. Este es un lenguaje de programación diseñado para usar la sintaxis de Python y a su vez que pueda implementar métodos y estrategias de programación utilizadas en _C_ y _C++_, por lo que un código realizado en este lenguaje contaría con beneficios de rendimiento como se observan en _C_ y _C++_. \n",
        "\n",
        "En otros términos, un programa escrito en este lenguaje contendría la sintaxis de _Python_, solo que, con ciertas correcciones en las declaraciones de variables y funciones, y sería compilado a código de _C_ o _C++_ **[1]**."
      ],
      "metadata": {
        "id": "VuHTTVCUwEEg"
      }
    },
    {
      "cell_type": "markdown",
      "source": [
        "#**Objetivo**"
      ],
      "metadata": {
        "id": "U3sleDM5G2Fi"
      }
    },
    {
      "cell_type": "markdown",
      "source": [
        "Analizar los resultados obtenidos de la ejecución de un programa construido en _Cython_ y _Python_, comparando el rendimiento que ofrece cada uno de los lenguajes de programación mencionados previamente, del cual se espera que _Cython_ ofrezca una mejora en los tiempos de ejecucion debido a la combinación de _Python_ con _C/C++_."
      ],
      "metadata": {
        "id": "kZUOpqMbG8bi"
      }
    },
    {
      "cell_type": "markdown",
      "source": [
        "##**Ejercicio:** Medida de rendimiento en Python/Cython para el problema de Planeta en Orbita\n",
        "Esta práctica consta de la construcción de cinco ficheros de extensión _.pyx_, _.py_ y un archivo de automatización _MakeFile_. A partir de estos ficheros se busca realizar una comparativa del rendimiento que puede ofrecer la ejecución de este programa en el lenguaje de programación _Python_, y como se puede obtener una mejora en el rendimiento al ser implementado en el lenguaje de programación _Cython_. Al final, lo que se obtendra en cada ejecución tanto para _Python_ como para _Cython_, es un fichero _.csv_ que contiene los tiempos de ejecución para los dos lenguajes realizados en una misma iteración. Con base en esos resultados, se realizará una comparativa del programa implementado en ambos lenguajes.\n",
        "\n",
        "Los archivos que se encuentran dentro del repositorio en GitHub ([Click aqui para acceder](https://github.com/JuanPabloBarrios30/Taller_Cython_CP.git)) son los siguientes: \n",
        ">### **orbita_py.py**\n",
        ">En este programa encontrará la solución propuesta dentro del lenguaje de programación python.\n",
        "\n",
        ">### **orbita_cy.pyx**\n",
        ">En este programa encontrará la solución propuesta dentro del lenguaje de programación cython. A nivel de comparación podrá observar que será la misma solución escrita en python, con una pequeña diferencia en la sintáxis.\n",
        "\n",
        ">### **setup.py**\n",
        ">El setup es un programa que permite realizar la compilación del archivo `.pyx` a código C. Se divide el setup del código principal para trabajar bajo las buenas prácticas que se aplican con la compilación por separado.\n",
        "\n",
        ">### **principal.py**\n",
        ">Este programa realiza la ejecución de los dos programas que contienen la solución. Para esto, este programa escrito en Python implementará ambos programas como bibliotecas y de este modo accede a sus métodos. Posteriormente, toma el tiempo de ejecución para ambos programas por separado, y termina contrastando los rendimientos obtenidos por ambos programas.\n",
        "\n",
        ">### **Makefile**\n",
        ">Este programa automatiza el proceso de compilación y creación del recurso compartido del archivo `.pyx`."
      ],
      "metadata": {
        "id": "LuqjBiK3zSU_"
      }
    },
    {
      "cell_type": "markdown",
      "source": [
        "#**Resultados**"
      ],
      "metadata": {
        "id": "egOIdM8KwdTE"
      }
    },
    {
      "cell_type": "markdown",
      "source": [
        "Para presentar los resultados obtenidos en las pruebas de ejecución, es necesario hacer uso de los módulos de _Pandas_ y _Matplotlib_, ya que estos permitiran visualizar los datos de manera más sencilla."
      ],
      "metadata": {
        "id": "FgUcsWhvwgfx"
      }
    },
    {
      "cell_type": "markdown",
      "source": [
        "**1. Se importan los módulos mencionados previamente**"
      ],
      "metadata": {
        "id": "rPuK4jdUwyxu"
      }
    },
    {
      "cell_type": "code",
      "execution_count": 29,
      "metadata": {
        "id": "7D2-lGZCpL1F"
      },
      "outputs": [],
      "source": [
        "import pandas as pd\n",
        "import matplotlib.pyplot as plt\n"
      ]
    },
    {
      "cell_type": "markdown",
      "source": [
        "**2. Se realiza la lectura del fichero _.csv_ que contiene los datos de las pruebas de ejecución y se genera un DataFrame a partir de este**"
      ],
      "metadata": {
        "id": "lmt0rdjmw41C"
      }
    },
    {
      "cell_type": "code",
      "source": [
        "url = \"/content/drive/MyDrive/Repositorios/Computación Paralela/planeta.csv\"\n",
        "df = pd.read_csv(url, names=['Python', 'Cython'])\n"
      ],
      "metadata": {
        "id": "vAU087MopQ37"
      },
      "execution_count": 37,
      "outputs": []
    },
    {
      "cell_type": "markdown",
      "source": [
        "**3. Una vez generado el DataFrame, se observan los datos**"
      ],
      "metadata": {
        "id": "ucYkw5CzxIxT"
      }
    },
    {
      "cell_type": "code",
      "source": [
        "df.head(6)\n"
      ],
      "metadata": {
        "colab": {
          "base_uri": "https://localhost:8080/",
          "height": 238
        },
        "id": "-fWzwtGPpdIL",
        "outputId": "099abb74-f6f6-412e-e8fb-fee84ba3db8b"
      },
      "execution_count": 39,
      "outputs": [
        {
          "output_type": "execute_result",
          "data": {
            "text/plain": [
              "    Python   Cython\n",
              "0  1.91776  0.11105\n",
              "1  1.88258  0.11105\n",
              "2  1.93614  0.11261\n",
              "3  1.89355  0.11262\n",
              "4  2.00478  0.11113\n",
              "5  1.95879  0.11113"
            ],
            "text/html": [
              "\n",
              "  <div id=\"df-48b5662b-b444-4f46-bebb-48703f689310\">\n",
              "    <div class=\"colab-df-container\">\n",
              "      <div>\n",
              "<style scoped>\n",
              "    .dataframe tbody tr th:only-of-type {\n",
              "        vertical-align: middle;\n",
              "    }\n",
              "\n",
              "    .dataframe tbody tr th {\n",
              "        vertical-align: top;\n",
              "    }\n",
              "\n",
              "    .dataframe thead th {\n",
              "        text-align: right;\n",
              "    }\n",
              "</style>\n",
              "<table border=\"1\" class=\"dataframe\">\n",
              "  <thead>\n",
              "    <tr style=\"text-align: right;\">\n",
              "      <th></th>\n",
              "      <th>Python</th>\n",
              "      <th>Cython</th>\n",
              "    </tr>\n",
              "  </thead>\n",
              "  <tbody>\n",
              "    <tr>\n",
              "      <th>0</th>\n",
              "      <td>1.91776</td>\n",
              "      <td>0.11105</td>\n",
              "    </tr>\n",
              "    <tr>\n",
              "      <th>1</th>\n",
              "      <td>1.88258</td>\n",
              "      <td>0.11105</td>\n",
              "    </tr>\n",
              "    <tr>\n",
              "      <th>2</th>\n",
              "      <td>1.93614</td>\n",
              "      <td>0.11261</td>\n",
              "    </tr>\n",
              "    <tr>\n",
              "      <th>3</th>\n",
              "      <td>1.89355</td>\n",
              "      <td>0.11262</td>\n",
              "    </tr>\n",
              "    <tr>\n",
              "      <th>4</th>\n",
              "      <td>2.00478</td>\n",
              "      <td>0.11113</td>\n",
              "    </tr>\n",
              "    <tr>\n",
              "      <th>5</th>\n",
              "      <td>1.95879</td>\n",
              "      <td>0.11113</td>\n",
              "    </tr>\n",
              "  </tbody>\n",
              "</table>\n",
              "</div>\n",
              "      <button class=\"colab-df-convert\" onclick=\"convertToInteractive('df-48b5662b-b444-4f46-bebb-48703f689310')\"\n",
              "              title=\"Convert this dataframe to an interactive table.\"\n",
              "              style=\"display:none;\">\n",
              "        \n",
              "  <svg xmlns=\"http://www.w3.org/2000/svg\" height=\"24px\"viewBox=\"0 0 24 24\"\n",
              "       width=\"24px\">\n",
              "    <path d=\"M0 0h24v24H0V0z\" fill=\"none\"/>\n",
              "    <path d=\"M18.56 5.44l.94 2.06.94-2.06 2.06-.94-2.06-.94-.94-2.06-.94 2.06-2.06.94zm-11 1L8.5 8.5l.94-2.06 2.06-.94-2.06-.94L8.5 2.5l-.94 2.06-2.06.94zm10 10l.94 2.06.94-2.06 2.06-.94-2.06-.94-.94-2.06-.94 2.06-2.06.94z\"/><path d=\"M17.41 7.96l-1.37-1.37c-.4-.4-.92-.59-1.43-.59-.52 0-1.04.2-1.43.59L10.3 9.45l-7.72 7.72c-.78.78-.78 2.05 0 2.83L4 21.41c.39.39.9.59 1.41.59.51 0 1.02-.2 1.41-.59l7.78-7.78 2.81-2.81c.8-.78.8-2.07 0-2.86zM5.41 20L4 18.59l7.72-7.72 1.47 1.35L5.41 20z\"/>\n",
              "  </svg>\n",
              "      </button>\n",
              "      \n",
              "  <style>\n",
              "    .colab-df-container {\n",
              "      display:flex;\n",
              "      flex-wrap:wrap;\n",
              "      gap: 12px;\n",
              "    }\n",
              "\n",
              "    .colab-df-convert {\n",
              "      background-color: #E8F0FE;\n",
              "      border: none;\n",
              "      border-radius: 50%;\n",
              "      cursor: pointer;\n",
              "      display: none;\n",
              "      fill: #1967D2;\n",
              "      height: 32px;\n",
              "      padding: 0 0 0 0;\n",
              "      width: 32px;\n",
              "    }\n",
              "\n",
              "    .colab-df-convert:hover {\n",
              "      background-color: #E2EBFA;\n",
              "      box-shadow: 0px 1px 2px rgba(60, 64, 67, 0.3), 0px 1px 3px 1px rgba(60, 64, 67, 0.15);\n",
              "      fill: #174EA6;\n",
              "    }\n",
              "\n",
              "    [theme=dark] .colab-df-convert {\n",
              "      background-color: #3B4455;\n",
              "      fill: #D2E3FC;\n",
              "    }\n",
              "\n",
              "    [theme=dark] .colab-df-convert:hover {\n",
              "      background-color: #434B5C;\n",
              "      box-shadow: 0px 1px 3px 1px rgba(0, 0, 0, 0.15);\n",
              "      filter: drop-shadow(0px 1px 2px rgba(0, 0, 0, 0.3));\n",
              "      fill: #FFFFFF;\n",
              "    }\n",
              "  </style>\n",
              "\n",
              "      <script>\n",
              "        const buttonEl =\n",
              "          document.querySelector('#df-48b5662b-b444-4f46-bebb-48703f689310 button.colab-df-convert');\n",
              "        buttonEl.style.display =\n",
              "          google.colab.kernel.accessAllowed ? 'block' : 'none';\n",
              "\n",
              "        async function convertToInteractive(key) {\n",
              "          const element = document.querySelector('#df-48b5662b-b444-4f46-bebb-48703f689310');\n",
              "          const dataTable =\n",
              "            await google.colab.kernel.invokeFunction('convertToInteractive',\n",
              "                                                     [key], {});\n",
              "          if (!dataTable) return;\n",
              "\n",
              "          const docLinkHtml = 'Like what you see? Visit the ' +\n",
              "            '<a target=\"_blank\" href=https://colab.research.google.com/notebooks/data_table.ipynb>data table notebook</a>'\n",
              "            + ' to learn more about interactive tables.';\n",
              "          element.innerHTML = '';\n",
              "          dataTable['output_type'] = 'display_data';\n",
              "          await google.colab.output.renderOutput(dataTable, element);\n",
              "          const docLink = document.createElement('div');\n",
              "          docLink.innerHTML = docLinkHtml;\n",
              "          element.appendChild(docLink);\n",
              "        }\n",
              "      </script>\n",
              "    </div>\n",
              "  </div>\n",
              "  "
            ]
          },
          "metadata": {},
          "execution_count": 39
        }
      ]
    },
    {
      "cell_type": "markdown",
      "source": [
        "**4. Se observar un resumen estadístico de los datos**"
      ],
      "metadata": {
        "id": "A51S8RiAxYIw"
      }
    },
    {
      "cell_type": "code",
      "source": [
        "df.describe().T\n"
      ],
      "metadata": {
        "colab": {
          "base_uri": "https://localhost:8080/",
          "height": 112
        },
        "id": "2-cIDrqNvvT0",
        "outputId": "975a1ff7-3fd7-4955-9208-a1a1330fb1b4"
      },
      "execution_count": 38,
      "outputs": [
        {
          "output_type": "execute_result",
          "data": {
            "text/plain": [
              "        count      mean       std      min       25%      50%       75%  \\\n",
              "Python    6.0  1.932267  0.045066  1.88258  1.899603  1.92695  1.953127   \n",
              "Cython    6.0  0.111598  0.000788  0.11105  0.111070  0.11113  0.112240   \n",
              "\n",
              "            max  \n",
              "Python  2.00478  \n",
              "Cython  0.11262  "
            ],
            "text/html": [
              "\n",
              "  <div id=\"df-542410ef-c2b4-42b1-9897-f86a22dbd9f3\">\n",
              "    <div class=\"colab-df-container\">\n",
              "      <div>\n",
              "<style scoped>\n",
              "    .dataframe tbody tr th:only-of-type {\n",
              "        vertical-align: middle;\n",
              "    }\n",
              "\n",
              "    .dataframe tbody tr th {\n",
              "        vertical-align: top;\n",
              "    }\n",
              "\n",
              "    .dataframe thead th {\n",
              "        text-align: right;\n",
              "    }\n",
              "</style>\n",
              "<table border=\"1\" class=\"dataframe\">\n",
              "  <thead>\n",
              "    <tr style=\"text-align: right;\">\n",
              "      <th></th>\n",
              "      <th>count</th>\n",
              "      <th>mean</th>\n",
              "      <th>std</th>\n",
              "      <th>min</th>\n",
              "      <th>25%</th>\n",
              "      <th>50%</th>\n",
              "      <th>75%</th>\n",
              "      <th>max</th>\n",
              "    </tr>\n",
              "  </thead>\n",
              "  <tbody>\n",
              "    <tr>\n",
              "      <th>Python</th>\n",
              "      <td>6.0</td>\n",
              "      <td>1.932267</td>\n",
              "      <td>0.045066</td>\n",
              "      <td>1.88258</td>\n",
              "      <td>1.899603</td>\n",
              "      <td>1.92695</td>\n",
              "      <td>1.953127</td>\n",
              "      <td>2.00478</td>\n",
              "    </tr>\n",
              "    <tr>\n",
              "      <th>Cython</th>\n",
              "      <td>6.0</td>\n",
              "      <td>0.111598</td>\n",
              "      <td>0.000788</td>\n",
              "      <td>0.11105</td>\n",
              "      <td>0.111070</td>\n",
              "      <td>0.11113</td>\n",
              "      <td>0.112240</td>\n",
              "      <td>0.11262</td>\n",
              "    </tr>\n",
              "  </tbody>\n",
              "</table>\n",
              "</div>\n",
              "      <button class=\"colab-df-convert\" onclick=\"convertToInteractive('df-542410ef-c2b4-42b1-9897-f86a22dbd9f3')\"\n",
              "              title=\"Convert this dataframe to an interactive table.\"\n",
              "              style=\"display:none;\">\n",
              "        \n",
              "  <svg xmlns=\"http://www.w3.org/2000/svg\" height=\"24px\"viewBox=\"0 0 24 24\"\n",
              "       width=\"24px\">\n",
              "    <path d=\"M0 0h24v24H0V0z\" fill=\"none\"/>\n",
              "    <path d=\"M18.56 5.44l.94 2.06.94-2.06 2.06-.94-2.06-.94-.94-2.06-.94 2.06-2.06.94zm-11 1L8.5 8.5l.94-2.06 2.06-.94-2.06-.94L8.5 2.5l-.94 2.06-2.06.94zm10 10l.94 2.06.94-2.06 2.06-.94-2.06-.94-.94-2.06-.94 2.06-2.06.94z\"/><path d=\"M17.41 7.96l-1.37-1.37c-.4-.4-.92-.59-1.43-.59-.52 0-1.04.2-1.43.59L10.3 9.45l-7.72 7.72c-.78.78-.78 2.05 0 2.83L4 21.41c.39.39.9.59 1.41.59.51 0 1.02-.2 1.41-.59l7.78-7.78 2.81-2.81c.8-.78.8-2.07 0-2.86zM5.41 20L4 18.59l7.72-7.72 1.47 1.35L5.41 20z\"/>\n",
              "  </svg>\n",
              "      </button>\n",
              "      \n",
              "  <style>\n",
              "    .colab-df-container {\n",
              "      display:flex;\n",
              "      flex-wrap:wrap;\n",
              "      gap: 12px;\n",
              "    }\n",
              "\n",
              "    .colab-df-convert {\n",
              "      background-color: #E8F0FE;\n",
              "      border: none;\n",
              "      border-radius: 50%;\n",
              "      cursor: pointer;\n",
              "      display: none;\n",
              "      fill: #1967D2;\n",
              "      height: 32px;\n",
              "      padding: 0 0 0 0;\n",
              "      width: 32px;\n",
              "    }\n",
              "\n",
              "    .colab-df-convert:hover {\n",
              "      background-color: #E2EBFA;\n",
              "      box-shadow: 0px 1px 2px rgba(60, 64, 67, 0.3), 0px 1px 3px 1px rgba(60, 64, 67, 0.15);\n",
              "      fill: #174EA6;\n",
              "    }\n",
              "\n",
              "    [theme=dark] .colab-df-convert {\n",
              "      background-color: #3B4455;\n",
              "      fill: #D2E3FC;\n",
              "    }\n",
              "\n",
              "    [theme=dark] .colab-df-convert:hover {\n",
              "      background-color: #434B5C;\n",
              "      box-shadow: 0px 1px 3px 1px rgba(0, 0, 0, 0.15);\n",
              "      filter: drop-shadow(0px 1px 2px rgba(0, 0, 0, 0.3));\n",
              "      fill: #FFFFFF;\n",
              "    }\n",
              "  </style>\n",
              "\n",
              "      <script>\n",
              "        const buttonEl =\n",
              "          document.querySelector('#df-542410ef-c2b4-42b1-9897-f86a22dbd9f3 button.colab-df-convert');\n",
              "        buttonEl.style.display =\n",
              "          google.colab.kernel.accessAllowed ? 'block' : 'none';\n",
              "\n",
              "        async function convertToInteractive(key) {\n",
              "          const element = document.querySelector('#df-542410ef-c2b4-42b1-9897-f86a22dbd9f3');\n",
              "          const dataTable =\n",
              "            await google.colab.kernel.invokeFunction('convertToInteractive',\n",
              "                                                     [key], {});\n",
              "          if (!dataTable) return;\n",
              "\n",
              "          const docLinkHtml = 'Like what you see? Visit the ' +\n",
              "            '<a target=\"_blank\" href=https://colab.research.google.com/notebooks/data_table.ipynb>data table notebook</a>'\n",
              "            + ' to learn more about interactive tables.';\n",
              "          element.innerHTML = '';\n",
              "          dataTable['output_type'] = 'display_data';\n",
              "          await google.colab.output.renderOutput(dataTable, element);\n",
              "          const docLink = document.createElement('div');\n",
              "          docLink.innerHTML = docLinkHtml;\n",
              "          element.appendChild(docLink);\n",
              "        }\n",
              "      </script>\n",
              "    </div>\n",
              "  </div>\n",
              "  "
            ]
          },
          "metadata": {},
          "execution_count": 38
        }
      ]
    },
    {
      "cell_type": "markdown",
      "source": [
        "**5. Se genera un gráfico de barras para ver el comportamiento del código a través de las iteraciones y como es su rendimiento del programa en cada lenguaje**"
      ],
      "metadata": {
        "id": "NzqcdK4exjTS"
      }
    },
    {
      "cell_type": "code",
      "source": [
        "df.plot(kind = 'bar', figsize=(18,10))\n",
        "plt.ylabel(\"Tiempo (s)\")\n",
        "plt.xlabel(\"Iteraciones\")\n",
        "plt.title(\"Comparación de rendimiento Python vs Cython\")\n",
        "plt.xticks(rotation=0)\n",
        "plt.grid()\n",
        "plt.show()\n"
      ],
      "metadata": {
        "colab": {
          "base_uri": "https://localhost:8080/",
          "height": 621
        },
        "id": "L411RZevrEYC",
        "outputId": "2b8e21f7-9ec0-4816-c75b-64d51ee6ec92"
      },
      "execution_count": 32,
      "outputs": [
        {
          "output_type": "display_data",
          "data": {
            "text/plain": [
              "<Figure size 1296x720 with 1 Axes>"
            ],
            "image/png": "[encoded data removed]"
          },
          "metadata": {
            "needs_background": "light"
          }
        }
      ]
    },
    {
      "cell_type": "markdown",
      "source": [
        "**6. De igual forma, se genera un gráfico de líneas para tener una perspectiva adicional de la comparativa de rendimiento**"
      ],
      "metadata": {
        "id": "xTVOYrYiyLkj"
      }
    },
    {
      "cell_type": "code",
      "source": [
        "iteraciones = [1, 2, 3, 4, 5, 6]\n",
        "plt.figure(figsize=(18,10))\n",
        "plt.plot(iteraciones, df['Python'], label = 'Python')\n",
        "plt.plot(iteraciones, df['Cython'], label = 'Cython')\n",
        "plt.grid(axis = 'y', color = 'gray', linestyle = 'dashed')\n",
        "plt.title(\"Comparación de rendimiento Python vs Cython\")\n",
        "plt.xlabel(\"Iteraciones\")\n",
        "plt.ylabel(\"Tiempo (s)\")\n",
        "plt.legend(loc = 'upper right')\n",
        "plt.show()\n"
      ],
      "metadata": {
        "colab": {
          "base_uri": "https://localhost:8080/",
          "height": 621
        },
        "id": "Nvpx5BV2s1bu",
        "outputId": "f90f7d90-c507-4bbd-96b7-11ab3481330c"
      },
      "execution_count": 33,
      "outputs": [
        {
          "output_type": "display_data",
          "data": {
            "text/plain": [
              "<Figure size 1296x720 with 1 Axes>"
            ],
            "image/png": "[encoded data removed]"
          },
          "metadata": {
            "needs_background": "light"
          }
        }
      ]
    },
    {
      "cell_type": "markdown",
      "source": [
        "**7. Por último, se puede ver como es el comportamiento individual de los dos lenguajes para este programa**"
      ],
      "metadata": {
        "id": "n5cDAhd8-dfN"
      }
    },
    {
      "cell_type": "code",
      "source": [
        "plt.figure(figsize=(21, 6))\n",
        "\n",
        "plt.subplot(1, 2, 1)\n",
        "plt.plot(df['Python'], color='blue', label='Python')\n",
        "plt.legend()\n",
        "plt.xlabel('Time')\n",
        "plt.xlabel('Experiment')\n",
        "plt.grid()\n",
        "plt.title('Python Execution Time')\n",
        "\n",
        "\n",
        "plt.subplot(1, 2, 2)\n",
        "plt.plot(df['Cython'], color='orange', label='Cython')\n",
        "plt.legend()\n",
        "plt.xlabel('Time')\n",
        "plt.xlabel('Experiment')\n",
        "plt.grid()\n",
        "plt.title('Cython Execution Time')\n"
      ],
      "metadata": {
        "colab": {
          "base_uri": "https://localhost:8080/",
          "height": 421
        },
        "id": "05z3w1OL-k7O",
        "outputId": "df4a7556-c02f-4bf9-a84a-b6f628387340"
      },
      "execution_count": 41,
      "outputs": [
        {
          "output_type": "execute_result",
          "data": {
            "text/plain": [
              "Text(0.5, 1.0, 'Cython Execution Time')"
            ]
          },
          "metadata": {},
          "execution_count": 41
        },
        {
          "output_type": "display_data",
          "data": {
            "text/plain": [
              "<Figure size 1512x432 with 2 Axes>"
            ],
            "image/png": "[encoded data removed]"
          },
          "metadata": {
            "needs_background": "light"
          }
        }
      ]
    },
    {
      "cell_type": "markdown",
      "source": [
        "#**Conclusiones**"
      ],
      "metadata": {
        "id": "ZY3hYjrVy7-A"
      }
    },
    {
      "cell_type": "markdown",
      "source": [
        "## De la práctica, se puede concluir lo siguiente:\n",
        "> 1. El lenguaje de programación _Cython_, a pesar de ser similar a _Python_, puede llegar a ofrecer un mejor rendimiento con respecto a la ejecución de determinado programa debido a que este permite la utilización de módulos y variables del lenguaje de programación _C_.\n",
        "\n",
        "> 2. Se crea un repositorio que contiene los ficheros necesarios para que cualquier usuario que desee replicar esta práctica pueda hacerlo de manera rápida y sencilla. De igual forma, en el repositorio se encuentran las instrucciones necesarias para conseguir la ejecución del programa\n",
        "\n",
        "> 3. Del gráfico de barras se pudo observar que hay una mejora considerable en los tiempos de ejecución en el lenguaje de programación _Cython_ con respecto a _Python_. En _Python_ se obtuvo un promedio de $1.93$s, mientras que en _Cython_ se obtuvo un promedio de $0.11$s, lo cual indica que Cython es aproximadamente $17$ veces mejor que Python para la ejecución de este programa\n",
        "\n",
        "> 4. Del gráfico de lineas en el que se comparó _Python_ con respecto a _Cython_, se puede observar que la escala en la que se encuentran los tiempos de ambos programas, genera que la curva de _Cython_ se vea como una línea recta, mientras que en la de _Python_ si se pueden observar unas pequeñas fluctuaciones en los tiempos. Es por ello que se realiza la gráfica individual para cada lenguaje, lo cual permite apreciar de mejor manera los tiempos de ejecucíon. Para _Python_ se puede observar una fluctuación mayor en los tiempos, oscilando entre $1.88$s y $2.00$, mientras que en _Cython_ se ve un comportamiento extraño, ya que en cierto tramo de la curva se comporta de manera constante, sin embargo sigue fluctuando a medida que avanzan las iteraciones. Esto se debe a que el nodo computacional no se aisló al momento de realizar las pruebas, por lo que los datos pudieron haberse contaminado.\n",
        "\n",
        "> 5. Con base en lo mencionado anteriormente, se recomienda que si se quiere replicar este experimento, en lo posible se aísle el nodo computacional que vaya a realizar la correspondiente ejecución, con el fin de obtener una mejor calidad en los resultados y asi poder realizar un análisis más completo, que muestre el comportamiento real de los dos lenguajes.\n",
        "\n",
        "> 6. Por último, se recomienda que, como se está trabajando con _Cython_, y este a su vez tiene acceso a los módulos y variables del lenguaje de programación _C_, a través de la instrucción `nogil` se pueda dar ese acceso al uso de _OpenMP_ para introducir el paralelismo y poder obtener una mejora en los tiempos de ejecución."
      ],
      "metadata": {
        "id": "B3i-0QLzy-2h"
      }
    },
    {
      "cell_type": "markdown",
      "source": [
        "#**Referencias**"
      ],
      "metadata": {
        "id": "oIE2VBgm2oiS"
      }
    },
    {
      "cell_type": "markdown",
      "source": [
        "[1] \"Optimizando al máximo Python con Cython\". INLOC Robotics. https://inlocrobotics.com/es/optimizando-python-con-cython/ (accedido el 8 de noviembre de 2022)."
      ],
      "metadata": {
        "id": "XKklOoE82rAT"
      }
    }
  ]
}